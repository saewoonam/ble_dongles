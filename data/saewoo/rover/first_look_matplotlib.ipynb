{
 "cells": [
  {
   "cell_type": "code",
   "execution_count": 1,
   "metadata": {},
   "outputs": [],
   "source": [
    "import numpy as np\n",
    "import plotly.graph_objects as go\n",
    "import requests\n",
    "import json\n",
    "import datetime\n",
    "import csv\n",
    "import codecs\n",
    "import urllib\n",
    "import matplotlib.pyplot as plt\n",
    "import pandas as pd\n",
    "import time\n",
    "import glob"
   ]
  },
  {
   "cell_type": "code",
   "execution_count": 2,
   "metadata": {},
   "outputs": [],
   "source": [
    "def load_data(fname):\n",
    "    data = pd.read_csv(fname, skiprows=1)\n",
    "    f = open(fname, 'rb')\n",
    "    line = f.readline()\n",
    "    f.close()\n",
    "    line = line[1:].decode().strip()\n",
    "    times = line.split(',')\n",
    "    times = [int(times[0]), int(times[1])]\n",
    "    # cleanup whitespaces in column names\n",
    "    data.rename(columns=lambda x: x[1:].strip() if x.startswith(\"#\") else x.strip(), inplace=True)\n",
    "    # cleanup whitespaces in data\n",
    "    data = data.applymap(lambda x: x.strip() if type(x)==str else x)\n",
    "    #. Add columns in which the time on the dongle is converted UNIX EPOCH time, and \"datetime64\"\n",
    "    data['time'] = (data['dongle_time']-times[0])/1000 + times[1] - 6*3600\n",
    "    data['datetime'] = data['time'].astype('datetime64[s]')\n",
    "    return data"
   ]
  },
  {
   "cell_type": "code",
   "execution_count": 3,
   "metadata": {},
   "outputs": [],
   "source": [
    "data = load_data('A.csv')"
   ]
  },
  {
   "cell_type": "code",
   "execution_count": 7,
   "metadata": {},
   "outputs": [],
   "source": [
    "def plotly_rssi_ch(t,rssi, ch, f):\n",
    "    #. Adapted from https://github.com/plotly/plotly.py/issues/1445\n",
    "    fig = go.FigureWidget()\n",
    "    ch_list = [37, 38, 39]\n",
    "    colors = ['red', 'blue', 'green']\n",
    "    count = 0\n",
    "    for c, color in zip(ch_list, colors):\n",
    "        b = ch==c\n",
    "    \n",
    "        fig.add_scattergl(x=t[b], y=rssi[b]+0.25*(c-38), \n",
    "                          mode='markers', name='ch %d'%c, \n",
    "                          marker = dict(size=5, symbol='cross', color=color)\n",
    "                         )\n",
    "        fig.add_histogram(y=rssi[b], name='rssi', marker=dict(color=color, opacity=0.7), \n",
    "                          xaxis='x2'\n",
    "                         )\n",
    "        fig.data[2*count+1].meta = rssi[b]\n",
    "        count += 1\n",
    "\n",
    "#     b = ch==37\n",
    "#     fig.add_scattergl(x=t[b], y=rssi[b]+0.25, mode='markers', name='rssi_vs_time', \n",
    "#                       marker = dict(size=5, symbol='cross', color='red')\n",
    "#                      )    \n",
    "#     b = ch==39\n",
    "#     fig.add_scattergl(x=t[b], y=rssi[b]-0.25, mode='markers', name='rssi_vs_time', \n",
    "#                       marker = dict(size=5, symbol='cross', color='green')\n",
    "#                      )    \n",
    "    #. Use 'meta' field to hold raw data\n",
    "    fig.layout = dict(xaxis=dict(domain=[0, 0.84], showgrid=False, zeroline=False),\n",
    "                      yaxis=dict(domain=[0, 1], showgrid=False, zeroline=False),\n",
    "                      showlegend=True,\n",
    "                      margin=dict(t=50),\n",
    "                      hovermode='closest',\n",
    "                      bargap=0.25,\n",
    "                      xaxis2=dict(domain=[0.85, 1], showgrid=False, zeroline=False),\n",
    "                      height=600,\n",
    "                      title={'text':f, 'x':0.42, 'xanchor':'center'}\n",
    "                     )\n",
    "    #  Lots of trouble getting the updating the histogram to work... Seems to work now that\n",
    "    #.  I have wrapped the whole thing in a function... Works on local jupyter\n",
    "    #.  Not working colab jupyter\n",
    "    # \n",
    "    def do_zoom(layout, xaxis_range, yaxis_range):\n",
    "        #global y\n",
    "        inds = ((xaxis_range[0] <= t) & (t <= xaxis_range[1]) &\n",
    "                (yaxis_range[0] <= rssi) & (rssi <= yaxis_range[1]))\n",
    "\n",
    "        with fig.batch_update():\n",
    "            fig.data[1].y = fig.data[1].meta[inds[ch==37]]\n",
    "            fig.data[3].y = fig.data[3].meta[inds[ch==38]]\n",
    "            fig.data[5].y = fig.data[5].meta[inds[ch==39]]\n",
    "\n",
    "\n",
    "    fig.layout.on_change(do_zoom, 'xaxis.range', 'yaxis.range')\n",
    "\n",
    "    return fig\n"
   ]
  },
  {
   "cell_type": "code",
   "execution_count": null,
   "metadata": {
    "scrolled": false
   },
   "outputs": [],
   "source": [
    "data_by_mac = {}\n",
    "for m in np.unique(data['mac']):\n",
    "    data_by_mac[m] = data[data['mac']==m]\n",
    "    fig = plotly_rssi_ch(data_by_mac[m]['datetime'], \n",
    "                        data_by_mac[m]['rssi'], \n",
    "                        data_by_mac[m]['ch'],\n",
    "                        m)\n",
    "    fig.show()"
   ]
  },
  {
   "cell_type": "code",
   "execution_count": null,
   "metadata": {},
   "outputs": [],
   "source": [
    "#matplotlib plotting\n",
    "#\n",
    "def plot_rssi(t, rssi):\n",
    "    # compute histogram fast\n",
    "    hist = np.array(np.unique(rssi, return_counts=True)).T\n",
    "    \n",
    "    # definitions for the axes\n",
    "    left, width = 0.1, 0.65\n",
    "    bottom, height = 0.1, 0.65\n",
    "    spacing = 0.005\n",
    "\n",
    "\n",
    "    rect_scatter = [left, bottom, width, height]\n",
    "    rect_histy = [left + width + spacing, bottom, 0.2, height]\n",
    "\n",
    "    # start with a rectangular Figure\n",
    "    plt.figure(figsize=(16, 8))\n",
    "\n",
    "    ax_scatter = plt.axes(rect_scatter)\n",
    "    ax_scatter.tick_params(direction='in', top=True, right=True)\n",
    "\n",
    "    ax_histy = plt.axes(rect_histy)\n",
    "    ax_histy.tick_params(direction='in', labelleft=False)\n",
    "\n",
    "    ax_scatter.plot(t, rssi,'.',  markersize=1)\n",
    "\n",
    "    ax_histy.barh(hist[:,0], hist[:,1])\n",
    "    ax_histy.set_ylim(ax_scatter.get_ylim())\n",
    "    return ax_scatter, ax_histy\n",
    "    #plt.show()"
   ]
  }
 ],
 "metadata": {
  "kernelspec": {
   "display_name": "Python 3",
   "language": "python",
   "name": "python3"
  },
  "language_info": {
   "codemirror_mode": {
    "name": "ipython",
    "version": 3
   },
   "file_extension": ".py",
   "mimetype": "text/x-python",
   "name": "python",
   "nbconvert_exporter": "python",
   "pygments_lexer": "ipython3",
   "version": "3.7.7"
  }
 },
 "nbformat": 4,
 "nbformat_minor": 4
}
